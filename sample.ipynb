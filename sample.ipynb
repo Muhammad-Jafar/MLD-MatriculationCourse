{
 "cells": [
  {
   "metadata": {
    "ExecuteTime": {
     "end_time": "2024-05-07T03:19:28.259278Z",
     "start_time": "2024-05-07T03:19:28.246620Z"
    }
   },
   "cell_type": "code",
   "source": [
    "#Integer\n",
    "x = 10\n",
    "print(type(x))\n",
    "\n",
    "#Float\n",
    "y = 10.5\n",
    "print(type(y))\n",
    "\n",
    "#Complex\n",
    "z = 2 + 3j\n",
    "print(type(z))"
   ],
   "id": "c3660dad1e3819e2",
   "outputs": [
    {
     "name": "stdout",
     "output_type": "stream",
     "text": [
      "<class 'int'>\n",
      "<class 'float'>\n",
      "<class 'complex'>\n"
     ]
    }
   ],
   "execution_count": 2
  },
  {
   "metadata": {
    "ExecuteTime": {
     "end_time": "2024-05-07T03:28:51.356950Z",
     "start_time": "2024-05-07T03:28:51.342539Z"
    }
   },
   "cell_type": "code",
   "source": [
    "myList = [1, 2.2, 3, 'Hi']\n",
    "myList[0] = 'Tes'\n",
    "print(myList)\n",
    "print(type(myList))"
   ],
   "id": "454f61e600b369ff",
   "outputs": [
    {
     "name": "stdout",
     "output_type": "stream",
     "text": [
      "['Tes', 2.2, 3, 'Hi']\n",
      "<class 'list'>\n"
     ]
    }
   ],
   "execution_count": 9
  },
  {
   "metadata": {
    "ExecuteTime": {
     "end_time": "2024-05-07T03:29:13.127334Z",
     "start_time": "2024-05-07T03:29:12.602816Z"
    }
   },
   "cell_type": "code",
   "source": [
    "myTuple = (1, 2.2, 3, 'Hi')\n",
    "myTuple[0] = 'aa'\n",
    "print(myTuple)\n",
    "print(type(myTuple))"
   ],
   "id": "fbfa12caf6066e36",
   "outputs": [
    {
     "ename": "TypeError",
     "evalue": "'tuple' object does not support item assignment",
     "output_type": "error",
     "traceback": [
      "\u001B[1;31m---------------------------------------------------------------------------\u001B[0m",
      "\u001B[1;31mTypeError\u001B[0m                                 Traceback (most recent call last)",
      "Cell \u001B[1;32mIn[10], line 2\u001B[0m\n\u001B[0;32m      1\u001B[0m myTuple \u001B[38;5;241m=\u001B[39m (\u001B[38;5;241m1\u001B[39m, \u001B[38;5;241m2.2\u001B[39m, \u001B[38;5;241m3\u001B[39m, \u001B[38;5;124m'\u001B[39m\u001B[38;5;124mHi\u001B[39m\u001B[38;5;124m'\u001B[39m)\n\u001B[1;32m----> 2\u001B[0m myTuple[\u001B[38;5;241m0\u001B[39m] \u001B[38;5;241m=\u001B[39m \u001B[38;5;124m'\u001B[39m\u001B[38;5;124maa\u001B[39m\u001B[38;5;124m'\u001B[39m\n\u001B[0;32m      3\u001B[0m \u001B[38;5;28mprint\u001B[39m(myTuple)\n\u001B[0;32m      4\u001B[0m \u001B[38;5;28mprint\u001B[39m(\u001B[38;5;28mtype\u001B[39m(myTuple))\n",
      "\u001B[1;31mTypeError\u001B[0m: 'tuple' object does not support item assignment"
     ]
    }
   ],
   "execution_count": 10
  },
  {
   "metadata": {},
   "cell_type": "code",
   "outputs": [],
   "execution_count": null,
   "source": "",
   "id": "7b432f0c60e4ae6"
  },
  {
   "metadata": {},
   "cell_type": "markdown",
   "source": [
    "## Exercise\n",
    "Create dictionary where filled about review and rating"
   ],
   "id": "73f265de363e5170"
  },
  {
   "metadata": {
    "ExecuteTime": {
     "end_time": "2024-05-07T03:42:22.351303Z",
     "start_time": "2024-05-07T03:42:22.340534Z"
    }
   },
   "cell_type": "code",
   "source": [
    "exercise = {\n",
    " \"Reviewer A\": {\n",
    "    \"review\": \"Good suka banget\",\n",
    "    \"rating\": \"5\",\n",
    "    },\n",
    "\"Reviewer B\": {\n",
    "    \"review\": \"Good suka banget\",\n",
    "    \"rating\": \"3\",\n",
    "    },\n",
    "\"Reviewer C\": {\n",
    "    \"review\": \"Error terus\",\n",
    "    \"rating\": \"2\",\n",
    "    },   \n",
    "}\n",
    "print(exercise)"
   ],
   "id": "c119fb77d109569",
   "outputs": [
    {
     "name": "stdout",
     "output_type": "stream",
     "text": [
      "{'Reviewer A': {'review': 'Good suka banget', 'rating': '5'}, 'Reviewer B': {'review': 'Good suka banget', 'rating': '3'}, 'Reviewer C': {'review': 'Error terus', 'rating': '2'}}\n"
     ]
    }
   ],
   "execution_count": 15
  },
  {
   "metadata": {},
   "cell_type": "markdown",
   "source": [
    "## Exercise\n",
    "Create an if statement for given codition. Where if name input > 5 caracter then display \"Nama lebih dari 5 huruf\""
   ],
   "id": "57d1bb2fe6397620"
  },
  {
   "metadata": {
    "ExecuteTime": {
     "end_time": "2024-05-07T03:55:34.686697Z",
     "start_time": "2024-05-07T03:55:34.664042Z"
    }
   },
   "cell_type": "code",
   "source": [
    "name = \"Jafar 131\"\n",
    "\n",
    "if len(name) > 5:\n",
    "    if name.__contains__('a'):\n",
    "        print(\"Kata mengandung huruf: \" + name.__contains__('a'))\n",
    "    print(\"Nama lebih dari 5 karakter\")\n",
    "else:\n",
    "    if name.__contains__('a'):\n",
    "        print(\"Kata mengandung huruf: \" + name.__contains__('a'))\n",
    "    print(\"Nama kurang dari 5 karakter\")"
   ],
   "id": "547d10e944736e8e",
   "outputs": [
    {
     "ename": "TypeError",
     "evalue": "can only concatenate str (not \"bool\") to str",
     "output_type": "error",
     "traceback": [
      "\u001B[1;31m---------------------------------------------------------------------------\u001B[0m",
      "\u001B[1;31mTypeError\u001B[0m                                 Traceback (most recent call last)",
      "Cell \u001B[1;32mIn[23], line 5\u001B[0m\n\u001B[0;32m      3\u001B[0m \u001B[38;5;28;01mif\u001B[39;00m \u001B[38;5;28mlen\u001B[39m(name) \u001B[38;5;241m>\u001B[39m \u001B[38;5;241m5\u001B[39m:\n\u001B[0;32m      4\u001B[0m     \u001B[38;5;28;01mif\u001B[39;00m name\u001B[38;5;241m.\u001B[39m\u001B[38;5;21m__contains__\u001B[39m(\u001B[38;5;124m'\u001B[39m\u001B[38;5;124ma\u001B[39m\u001B[38;5;124m'\u001B[39m):\n\u001B[1;32m----> 5\u001B[0m         \u001B[38;5;28mprint\u001B[39m(\u001B[38;5;124m\"\u001B[39m\u001B[38;5;124mKata mengandung huruf: \u001B[39m\u001B[38;5;124m\"\u001B[39m \u001B[38;5;241m+\u001B[39m name\u001B[38;5;241m.\u001B[39m\u001B[38;5;21m__contains__\u001B[39m(\u001B[38;5;124m'\u001B[39m\u001B[38;5;124ma\u001B[39m\u001B[38;5;124m'\u001B[39m))\n\u001B[0;32m      6\u001B[0m     \u001B[38;5;28mprint\u001B[39m(\u001B[38;5;124m\"\u001B[39m\u001B[38;5;124mNama lebih dari 5 karakter\u001B[39m\u001B[38;5;124m\"\u001B[39m)\n\u001B[0;32m      7\u001B[0m \u001B[38;5;28;01melse\u001B[39;00m:\n",
      "\u001B[1;31mTypeError\u001B[0m: can only concatenate str (not \"bool\") to str"
     ]
    }
   ],
   "execution_count": 23
  },
  {
   "metadata": {
    "ExecuteTime": {
     "end_time": "2024-05-07T03:59:53.429110Z",
     "start_time": "2024-05-07T03:59:53.410774Z"
    }
   },
   "cell_type": "code",
   "source": [
    "nama = \"Jafar 131\"\n",
    "cekNama = \"Betul\" if len(nama) > 5 else \"salah\"\n",
    "cekNama"
   ],
   "id": "2264a71d99409b6f",
   "outputs": [
    {
     "data": {
      "text/plain": [
       "'Betul'"
      ]
     },
     "execution_count": 31,
     "metadata": {},
     "output_type": "execute_result"
    }
   ],
   "execution_count": 31
  },
  {
   "metadata": {},
   "cell_type": "markdown",
   "source": [
    "## Exercise\n",
    "Create a mixed-list then display it"
   ],
   "id": "31cd2ef0aefb42fb"
  },
  {
   "metadata": {
    "ExecuteTime": {
     "end_time": "2024-05-07T04:03:40.213323Z",
     "start_time": "2024-05-07T04:03:40.197057Z"
    }
   },
   "cell_type": "code",
   "source": [
    "listCampur = [131, \"Betul\", \"salah\", 10.5]\n",
    "for i in listCampur:\n",
    "    print(i)"
   ],
   "id": "314657cbc92592d1",
   "outputs": [
    {
     "name": "stdout",
     "output_type": "stream",
     "text": [
      "131\n",
      "Betul\n",
      "salah\n",
      "10.5\n"
     ]
    }
   ],
   "execution_count": 33
  },
  {
   "metadata": {
    "ExecuteTime": {
     "end_time": "2024-05-07T04:09:20.195151Z",
     "start_time": "2024-05-07T04:09:20.181507Z"
    }
   },
   "cell_type": "code",
   "source": [
    "listSatu = [0,1,2]\n",
    "listDua = [\"Betul\", \"salah\", \"salah\"]\n",
    "for i in zip(listSatu, listDua):\n",
    "    print(i)"
   ],
   "id": "756941ff97a8398e",
   "outputs": [
    {
     "name": "stdout",
     "output_type": "stream",
     "text": [
      "(0, 'Betul')\n",
      "(1, 'salah')\n",
      "(2, 'salah')\n"
     ]
    }
   ],
   "execution_count": 34
  },
  {
   "metadata": {
    "ExecuteTime": {
     "end_time": "2024-05-07T04:13:43.570826Z",
     "start_time": "2024-05-07T04:13:43.553893Z"
    }
   },
   "cell_type": "code",
   "source": [
    "review = [\"Bagus banget\", \"Cukup menarik\", \"Sering error\"]\n",
    "rating = [2, 4, 5, 3]\n",
    "\n",
    "for i in zip(review, rating):\n",
    "    print(i)\n",
    "\n",
    "for i, j in zip(review, rating):\n",
    "    print(\"review: \" + i + \";\", \"rating: \" + str(j))"
   ],
   "id": "2ef80c4442f04360",
   "outputs": [
    {
     "name": "stdout",
     "output_type": "stream",
     "text": [
      "('Bagus banget', 2)\n",
      "('Cukup menarik', 4)\n",
      "('Sering error', 5)\n",
      "review: Bagus banget; rating: 2\n",
      "review: Cukup menarik; rating: 4\n",
      "review: Sering error; rating: 5\n"
     ]
    }
   ],
   "execution_count": 44
  },
  {
   "metadata": {
    "ExecuteTime": {
     "end_time": "2024-05-07T04:17:12.457267Z",
     "start_time": "2024-05-07T04:17:12.440701Z"
    }
   },
   "cell_type": "code",
   "source": [
    "for i, r in enumerate(review):\n",
    "    print(f\" Review ke-{i}: {r}\")"
   ],
   "id": "1cd812f1e028a29e",
   "outputs": [
    {
     "name": "stdout",
     "output_type": "stream",
     "text": [
      " Review ke-0: Bagus banget\n",
      " Review ke-1: Cukup menarik\n",
      " Review ke-2: Sering error\n"
     ]
    }
   ],
   "execution_count": 46
  },
  {
   "metadata": {
    "ExecuteTime": {
     "end_time": "2024-05-07T04:23:45.101836Z",
     "start_time": "2024-05-07T04:23:45.093777Z"
    }
   },
   "cell_type": "code",
   "source": [
    "    reviews = {\n",
    "        0: \"Bagus\",\n",
    "        1: \"Lumayan\",\n",
    "        2: \"Jelek\"\n",
    "}\n",
    "    for item, review in reviews.items():\n",
    "        print(f\"Review yang ke-{item}: {review}\")"
   ],
   "id": "3216f9aad12e2c61",
   "outputs": [
    {
     "name": "stdout",
     "output_type": "stream",
     "text": [
      "Review yang ke-0: Bagus\n",
      "Review yang ke-1: Lumayan\n",
      "Review yang ke-2: Jelek\n"
     ]
    }
   ],
   "execution_count": 47
  },
  {
   "metadata": {},
   "cell_type": "code",
   "outputs": [],
   "execution_count": null,
   "source": "",
   "id": "7a45be7b1f58e8d0"
  },
  {
   "metadata": {
    "ExecuteTime": {
     "end_time": "2024-05-07T04:36:46.405245Z",
     "start_time": "2024-05-07T04:36:46.393364Z"
    }
   },
   "cell_type": "code",
   "source": [
    "def greet(name, enum):\n",
    "    for i in range(enum):\n",
    "        print(f\"Hello {name}\")\n",
    "\n",
    "greet(\"Testing\", 5)\n",
    "    "
   ],
   "id": "d9b719182c0812b6",
   "outputs": [
    {
     "name": "stdout",
     "output_type": "stream",
     "text": [
      "Hello Testing\n",
      "Hello Testing\n",
      "Hello Testing\n",
      "Hello Testing\n",
      "Hello Testing\n"
     ]
    }
   ],
   "execution_count": 53
  },
  {
   "metadata": {
    "ExecuteTime": {
     "end_time": "2024-05-07T05:58:25.053414Z",
     "start_time": "2024-05-07T05:58:25.027546Z"
    }
   },
   "cell_type": "code",
   "source": [
    "def multiply(num1, num2): return num1 + num2\n",
    "print(multiply(1, 2))"
   ],
   "id": "692a2874b395a8a0",
   "outputs": [
    {
     "name": "stdout",
     "output_type": "stream",
     "text": [
      "3\n"
     ]
    }
   ],
   "execution_count": 54
  },
  {
   "metadata": {
    "ExecuteTime": {
     "end_time": "2024-05-07T06:13:46.086023Z",
     "start_time": "2024-05-07T06:13:46.067701Z"
    }
   },
   "cell_type": "code",
   "source": [
    "def get_first_last_name(fullname):\n",
    "    part = fullname.split()    \n",
    "    firstName = part[0]\n",
    "    lastName = part[-1]\n",
    "    \n",
    "    return firstName, lastName\n",
    "\n",
    "f_name, l_name = get_first_last_name(\"Muhammad Jafar Sakone\")\n",
    "print(f_name, l_name)"
   ],
   "id": "97570499d261098f",
   "outputs": [
    {
     "name": "stdout",
     "output_type": "stream",
     "text": [
      "Muhammad Sakone\n"
     ]
    }
   ],
   "execution_count": 61
  },
  {
   "metadata": {
    "ExecuteTime": {
     "end_time": "2024-05-07T06:11:36.168264Z",
     "start_time": "2024-05-07T06:11:36.157023Z"
    }
   },
   "cell_type": "code",
   "source": "\"Muhammad Jafar Sakone\".split()",
   "id": "73d1117ea4b34146",
   "outputs": [
    {
     "data": {
      "text/plain": [
       "['MuhammadJafarSakone']"
      ]
     },
     "execution_count": 57,
     "metadata": {},
     "output_type": "execute_result"
    }
   ],
   "execution_count": 57
  },
  {
   "metadata": {
    "ExecuteTime": {
     "end_time": "2024-05-07T06:22:11.829947Z",
     "start_time": "2024-05-07T06:22:11.822583Z"
    }
   },
   "cell_type": "code",
   "source": [
    "import numpy as np\n",
    "\n",
    "np.random.random(5)"
   ],
   "id": "284c642afc31d4c0",
   "outputs": [
    {
     "data": {
      "text/plain": [
       "array([0.18901343, 0.0826867 , 0.77371883, 0.06004295, 0.18282247])"
      ]
     },
     "execution_count": 63,
     "metadata": {},
     "output_type": "execute_result"
    }
   ],
   "execution_count": 63
  },
  {
   "metadata": {
    "ExecuteTime": {
     "end_time": "2024-05-07T07:08:33.088102Z",
     "start_time": "2024-05-07T07:08:33.061986Z"
    }
   },
   "cell_type": "code",
   "source": [
    "import pandas as pd\n",
    "\n",
    "data = {\n",
    "    'name': [\"John\", \"Doe\", \"Jane\", \"Jafar\"],\n",
    "    'age': [20, 21, 22, 23],\n",
    "    'review': ['Good', 'Bad', 'Good', 'Bad'],\n",
    "    'rating': [5, 4, 3, 2],\n",
    "}\n",
    "\n",
    "df = pd.DataFrame(data)\n",
    "df['isVerified'] = [True, False, True, False]\n",
    "df\n",
    "\n",
    "# pd.DataFrame(data)\n",
    "# round(pd.DataFrame(data)['age'].mean(),2)\n",
    "# print(pd.DataFrame(data).describe())\n",
    "# print(pd.DataFrame(data).shape)"
   ],
   "id": "b59d5f57e5b75851",
   "outputs": [
    {
     "data": {
      "text/plain": [
       "    name  age review  rating  isVerified\n",
       "0   John   20   Good       5        True\n",
       "1    Doe   21    Bad       4       False\n",
       "2   Jane   22   Good       3        True\n",
       "3  Jafar   23    Bad       2       False"
      ],
      "text/html": [
       "<div>\n",
       "<style scoped>\n",
       "    .dataframe tbody tr th:only-of-type {\n",
       "        vertical-align: middle;\n",
       "    }\n",
       "\n",
       "    .dataframe tbody tr th {\n",
       "        vertical-align: top;\n",
       "    }\n",
       "\n",
       "    .dataframe thead th {\n",
       "        text-align: right;\n",
       "    }\n",
       "</style>\n",
       "<table border=\"1\" class=\"dataframe\">\n",
       "  <thead>\n",
       "    <tr style=\"text-align: right;\">\n",
       "      <th></th>\n",
       "      <th>name</th>\n",
       "      <th>age</th>\n",
       "      <th>review</th>\n",
       "      <th>rating</th>\n",
       "      <th>isVerified</th>\n",
       "    </tr>\n",
       "  </thead>\n",
       "  <tbody>\n",
       "    <tr>\n",
       "      <th>0</th>\n",
       "      <td>John</td>\n",
       "      <td>20</td>\n",
       "      <td>Good</td>\n",
       "      <td>5</td>\n",
       "      <td>True</td>\n",
       "    </tr>\n",
       "    <tr>\n",
       "      <th>1</th>\n",
       "      <td>Doe</td>\n",
       "      <td>21</td>\n",
       "      <td>Bad</td>\n",
       "      <td>4</td>\n",
       "      <td>False</td>\n",
       "    </tr>\n",
       "    <tr>\n",
       "      <th>2</th>\n",
       "      <td>Jane</td>\n",
       "      <td>22</td>\n",
       "      <td>Good</td>\n",
       "      <td>3</td>\n",
       "      <td>True</td>\n",
       "    </tr>\n",
       "    <tr>\n",
       "      <th>3</th>\n",
       "      <td>Jafar</td>\n",
       "      <td>23</td>\n",
       "      <td>Bad</td>\n",
       "      <td>2</td>\n",
       "      <td>False</td>\n",
       "    </tr>\n",
       "  </tbody>\n",
       "</table>\n",
       "</div>"
      ]
     },
     "execution_count": 94,
     "metadata": {},
     "output_type": "execute_result"
    }
   ],
   "execution_count": 94
  },
  {
   "metadata": {
    "ExecuteTime": {
     "end_time": "2024-05-07T07:14:29.346312Z",
     "start_time": "2024-05-07T07:14:29.327083Z"
    }
   },
   "cell_type": "code",
   "source": "pd.read_csv('data/iris.csv')",
   "id": "96e5b3b87cf0590c",
   "outputs": [
    {
     "data": {
      "text/plain": [
       "     sepal.length  sepal.width  petal.length  petal.width    variety\n",
       "0             5.1          3.5           1.4          0.2     Setosa\n",
       "1             4.9          3.0           1.4          0.2     Setosa\n",
       "2             4.7          3.2           1.3          0.2     Setosa\n",
       "3             4.6          3.1           1.5          0.2     Setosa\n",
       "4             5.0          3.6           1.4          0.2     Setosa\n",
       "..            ...          ...           ...          ...        ...\n",
       "145           6.7          3.0           5.2          2.3  Virginica\n",
       "146           6.3          2.5           5.0          1.9  Virginica\n",
       "147           6.5          3.0           5.2          2.0  Virginica\n",
       "148           6.2          3.4           5.4          2.3  Virginica\n",
       "149           5.9          3.0           5.1          1.8  Virginica\n",
       "\n",
       "[150 rows x 5 columns]"
      ],
      "text/html": [
       "<div>\n",
       "<style scoped>\n",
       "    .dataframe tbody tr th:only-of-type {\n",
       "        vertical-align: middle;\n",
       "    }\n",
       "\n",
       "    .dataframe tbody tr th {\n",
       "        vertical-align: top;\n",
       "    }\n",
       "\n",
       "    .dataframe thead th {\n",
       "        text-align: right;\n",
       "    }\n",
       "</style>\n",
       "<table border=\"1\" class=\"dataframe\">\n",
       "  <thead>\n",
       "    <tr style=\"text-align: right;\">\n",
       "      <th></th>\n",
       "      <th>sepal.length</th>\n",
       "      <th>sepal.width</th>\n",
       "      <th>petal.length</th>\n",
       "      <th>petal.width</th>\n",
       "      <th>variety</th>\n",
       "    </tr>\n",
       "  </thead>\n",
       "  <tbody>\n",
       "    <tr>\n",
       "      <th>0</th>\n",
       "      <td>5.1</td>\n",
       "      <td>3.5</td>\n",
       "      <td>1.4</td>\n",
       "      <td>0.2</td>\n",
       "      <td>Setosa</td>\n",
       "    </tr>\n",
       "    <tr>\n",
       "      <th>1</th>\n",
       "      <td>4.9</td>\n",
       "      <td>3.0</td>\n",
       "      <td>1.4</td>\n",
       "      <td>0.2</td>\n",
       "      <td>Setosa</td>\n",
       "    </tr>\n",
       "    <tr>\n",
       "      <th>2</th>\n",
       "      <td>4.7</td>\n",
       "      <td>3.2</td>\n",
       "      <td>1.3</td>\n",
       "      <td>0.2</td>\n",
       "      <td>Setosa</td>\n",
       "    </tr>\n",
       "    <tr>\n",
       "      <th>3</th>\n",
       "      <td>4.6</td>\n",
       "      <td>3.1</td>\n",
       "      <td>1.5</td>\n",
       "      <td>0.2</td>\n",
       "      <td>Setosa</td>\n",
       "    </tr>\n",
       "    <tr>\n",
       "      <th>4</th>\n",
       "      <td>5.0</td>\n",
       "      <td>3.6</td>\n",
       "      <td>1.4</td>\n",
       "      <td>0.2</td>\n",
       "      <td>Setosa</td>\n",
       "    </tr>\n",
       "    <tr>\n",
       "      <th>...</th>\n",
       "      <td>...</td>\n",
       "      <td>...</td>\n",
       "      <td>...</td>\n",
       "      <td>...</td>\n",
       "      <td>...</td>\n",
       "    </tr>\n",
       "    <tr>\n",
       "      <th>145</th>\n",
       "      <td>6.7</td>\n",
       "      <td>3.0</td>\n",
       "      <td>5.2</td>\n",
       "      <td>2.3</td>\n",
       "      <td>Virginica</td>\n",
       "    </tr>\n",
       "    <tr>\n",
       "      <th>146</th>\n",
       "      <td>6.3</td>\n",
       "      <td>2.5</td>\n",
       "      <td>5.0</td>\n",
       "      <td>1.9</td>\n",
       "      <td>Virginica</td>\n",
       "    </tr>\n",
       "    <tr>\n",
       "      <th>147</th>\n",
       "      <td>6.5</td>\n",
       "      <td>3.0</td>\n",
       "      <td>5.2</td>\n",
       "      <td>2.0</td>\n",
       "      <td>Virginica</td>\n",
       "    </tr>\n",
       "    <tr>\n",
       "      <th>148</th>\n",
       "      <td>6.2</td>\n",
       "      <td>3.4</td>\n",
       "      <td>5.4</td>\n",
       "      <td>2.3</td>\n",
       "      <td>Virginica</td>\n",
       "    </tr>\n",
       "    <tr>\n",
       "      <th>149</th>\n",
       "      <td>5.9</td>\n",
       "      <td>3.0</td>\n",
       "      <td>5.1</td>\n",
       "      <td>1.8</td>\n",
       "      <td>Virginica</td>\n",
       "    </tr>\n",
       "  </tbody>\n",
       "</table>\n",
       "<p>150 rows × 5 columns</p>\n",
       "</div>"
      ]
     },
     "execution_count": 98,
     "metadata": {},
     "output_type": "execute_result"
    }
   ],
   "execution_count": 98
  },
  {
   "metadata": {
    "ExecuteTime": {
     "end_time": "2024-05-07T07:19:30.361915Z",
     "start_time": "2024-05-07T07:19:30.354698Z"
    }
   },
   "cell_type": "code",
   "source": "df.to_csv('data/hasil.csv', index=False)",
   "id": "60b037e8e161e6e1",
   "outputs": [],
   "execution_count": 105
  },
  {
   "metadata": {},
   "cell_type": "code",
   "outputs": [],
   "execution_count": null,
   "source": "pd.read_excel()",
   "id": "f2a23520f8837cb8"
  },
  {
   "metadata": {},
   "cell_type": "markdown",
   "source": "### DELIMITER",
   "id": "df1773df5de6ff8c"
  },
  {
   "metadata": {
    "ExecuteTime": {
     "end_time": "2024-05-08T06:52:03.575420Z",
     "start_time": "2024-05-08T06:52:03.546859Z"
    }
   },
   "cell_type": "code",
   "source": [
    "import pandas as pd\n",
    "import numpy as np\n",
    "import seaborn as sb\n",
    "import matplotlib.pyplot as plt\n",
    "from sklearn.datasets import load_iris\n",
    "\n",
    "iris = load_iris()\n",
    "df = pd.DataFrame(iris.data, columns=iris.feature_names)\n",
    "df['target'] = iris.target\n",
    "df.head()"
   ],
   "id": "c681f1ca4df777da",
   "outputs": [
    {
     "data": {
      "text/plain": [
       "   sepal length (cm)  sepal width (cm)  petal length (cm)  petal width (cm)  \\\n",
       "0                5.1               3.5                1.4               0.2   \n",
       "1                4.9               3.0                1.4               0.2   \n",
       "2                4.7               3.2                1.3               0.2   \n",
       "3                4.6               3.1                1.5               0.2   \n",
       "4                5.0               3.6                1.4               0.2   \n",
       "\n",
       "   target  \n",
       "0       0  \n",
       "1       0  \n",
       "2       0  \n",
       "3       0  \n",
       "4       0  "
      ],
      "text/html": [
       "<div>\n",
       "<style scoped>\n",
       "    .dataframe tbody tr th:only-of-type {\n",
       "        vertical-align: middle;\n",
       "    }\n",
       "\n",
       "    .dataframe tbody tr th {\n",
       "        vertical-align: top;\n",
       "    }\n",
       "\n",
       "    .dataframe thead th {\n",
       "        text-align: right;\n",
       "    }\n",
       "</style>\n",
       "<table border=\"1\" class=\"dataframe\">\n",
       "  <thead>\n",
       "    <tr style=\"text-align: right;\">\n",
       "      <th></th>\n",
       "      <th>sepal length (cm)</th>\n",
       "      <th>sepal width (cm)</th>\n",
       "      <th>petal length (cm)</th>\n",
       "      <th>petal width (cm)</th>\n",
       "      <th>target</th>\n",
       "    </tr>\n",
       "  </thead>\n",
       "  <tbody>\n",
       "    <tr>\n",
       "      <th>0</th>\n",
       "      <td>5.1</td>\n",
       "      <td>3.5</td>\n",
       "      <td>1.4</td>\n",
       "      <td>0.2</td>\n",
       "      <td>0</td>\n",
       "    </tr>\n",
       "    <tr>\n",
       "      <th>1</th>\n",
       "      <td>4.9</td>\n",
       "      <td>3.0</td>\n",
       "      <td>1.4</td>\n",
       "      <td>0.2</td>\n",
       "      <td>0</td>\n",
       "    </tr>\n",
       "    <tr>\n",
       "      <th>2</th>\n",
       "      <td>4.7</td>\n",
       "      <td>3.2</td>\n",
       "      <td>1.3</td>\n",
       "      <td>0.2</td>\n",
       "      <td>0</td>\n",
       "    </tr>\n",
       "    <tr>\n",
       "      <th>3</th>\n",
       "      <td>4.6</td>\n",
       "      <td>3.1</td>\n",
       "      <td>1.5</td>\n",
       "      <td>0.2</td>\n",
       "      <td>0</td>\n",
       "    </tr>\n",
       "    <tr>\n",
       "      <th>4</th>\n",
       "      <td>5.0</td>\n",
       "      <td>3.6</td>\n",
       "      <td>1.4</td>\n",
       "      <td>0.2</td>\n",
       "      <td>0</td>\n",
       "    </tr>\n",
       "  </tbody>\n",
       "</table>\n",
       "</div>"
      ]
     },
     "execution_count": 11,
     "metadata": {},
     "output_type": "execute_result"
    }
   ],
   "execution_count": 11
  },
  {
   "metadata": {
    "ExecuteTime": {
     "end_time": "2024-05-08T06:49:53.169198Z",
     "start_time": "2024-05-08T06:49:53.146584Z"
    }
   },
   "cell_type": "code",
   "source": [
    "from sklearn.model_selection import train_test_split\n",
    "\n",
    "X = df.drop('target', axis=1)\n",
    "y = df['target']\n",
    "\n",
    "x_train, x_test, y_train, y_test = train_test_split(X, y, test_size=0.2)"
   ],
   "id": "73f7865714dbc8a6",
   "outputs": [],
   "execution_count": 5
  },
  {
   "metadata": {
    "ExecuteTime": {
     "end_time": "2024-05-08T06:49:55.080502Z",
     "start_time": "2024-05-08T06:49:55.042051Z"
    }
   },
   "cell_type": "code",
   "source": [
    "from sklearn.metrics import accuracy_score, confusion_matrix, classification_report\n",
    "from sklearn.ensemble import RandomForestClassifier\n",
    "\n",
    "#initialization\n",
    "classifier = RandomForestClassifier(n_estimators=10, random_state=0)\n",
    "classifier.fit(x_train, y_train)\n",
    "\n",
    "#Predict on the test set\n",
    "y_pred = classifier.predict(x_test)\n",
    "\n",
    "#Accuracy\n",
    "accuracy = accuracy_score(y_test, y_pred)\n",
    "print(accuracy)"
   ],
   "id": "d495e3dbafa6dde4",
   "outputs": [
    {
     "name": "stdout",
     "output_type": "stream",
     "text": [
      "0.9666666666666667\n"
     ]
    }
   ],
   "execution_count": 6
  },
  {
   "metadata": {
    "ExecuteTime": {
     "end_time": "2024-05-08T06:50:00.711279Z",
     "start_time": "2024-05-08T06:50:00.688861Z"
    }
   },
   "cell_type": "code",
   "source": [
    "#Using logistic regression\n",
    "\n",
    "data = pd.get_dummies(df, dtype='target')\n",
    "data"
   ],
   "id": "3fee4635aea42f5a",
   "outputs": [
    {
     "data": {
      "text/plain": [
       "     sepal length (cm)  sepal width (cm)  petal length (cm)  petal width (cm)  \\\n",
       "0                  5.1               3.5                1.4               0.2   \n",
       "1                  4.9               3.0                1.4               0.2   \n",
       "2                  4.7               3.2                1.3               0.2   \n",
       "3                  4.6               3.1                1.5               0.2   \n",
       "4                  5.0               3.6                1.4               0.2   \n",
       "..                 ...               ...                ...               ...   \n",
       "145                6.7               3.0                5.2               2.3   \n",
       "146                6.3               2.5                5.0               1.9   \n",
       "147                6.5               3.0                5.2               2.0   \n",
       "148                6.2               3.4                5.4               2.3   \n",
       "149                5.9               3.0                5.1               1.8   \n",
       "\n",
       "     target  \n",
       "0         0  \n",
       "1         0  \n",
       "2         0  \n",
       "3         0  \n",
       "4         0  \n",
       "..      ...  \n",
       "145       2  \n",
       "146       2  \n",
       "147       2  \n",
       "148       2  \n",
       "149       2  \n",
       "\n",
       "[150 rows x 5 columns]"
      ],
      "text/html": [
       "<div>\n",
       "<style scoped>\n",
       "    .dataframe tbody tr th:only-of-type {\n",
       "        vertical-align: middle;\n",
       "    }\n",
       "\n",
       "    .dataframe tbody tr th {\n",
       "        vertical-align: top;\n",
       "    }\n",
       "\n",
       "    .dataframe thead th {\n",
       "        text-align: right;\n",
       "    }\n",
       "</style>\n",
       "<table border=\"1\" class=\"dataframe\">\n",
       "  <thead>\n",
       "    <tr style=\"text-align: right;\">\n",
       "      <th></th>\n",
       "      <th>sepal length (cm)</th>\n",
       "      <th>sepal width (cm)</th>\n",
       "      <th>petal length (cm)</th>\n",
       "      <th>petal width (cm)</th>\n",
       "      <th>target</th>\n",
       "    </tr>\n",
       "  </thead>\n",
       "  <tbody>\n",
       "    <tr>\n",
       "      <th>0</th>\n",
       "      <td>5.1</td>\n",
       "      <td>3.5</td>\n",
       "      <td>1.4</td>\n",
       "      <td>0.2</td>\n",
       "      <td>0</td>\n",
       "    </tr>\n",
       "    <tr>\n",
       "      <th>1</th>\n",
       "      <td>4.9</td>\n",
       "      <td>3.0</td>\n",
       "      <td>1.4</td>\n",
       "      <td>0.2</td>\n",
       "      <td>0</td>\n",
       "    </tr>\n",
       "    <tr>\n",
       "      <th>2</th>\n",
       "      <td>4.7</td>\n",
       "      <td>3.2</td>\n",
       "      <td>1.3</td>\n",
       "      <td>0.2</td>\n",
       "      <td>0</td>\n",
       "    </tr>\n",
       "    <tr>\n",
       "      <th>3</th>\n",
       "      <td>4.6</td>\n",
       "      <td>3.1</td>\n",
       "      <td>1.5</td>\n",
       "      <td>0.2</td>\n",
       "      <td>0</td>\n",
       "    </tr>\n",
       "    <tr>\n",
       "      <th>4</th>\n",
       "      <td>5.0</td>\n",
       "      <td>3.6</td>\n",
       "      <td>1.4</td>\n",
       "      <td>0.2</td>\n",
       "      <td>0</td>\n",
       "    </tr>\n",
       "    <tr>\n",
       "      <th>...</th>\n",
       "      <td>...</td>\n",
       "      <td>...</td>\n",
       "      <td>...</td>\n",
       "      <td>...</td>\n",
       "      <td>...</td>\n",
       "    </tr>\n",
       "    <tr>\n",
       "      <th>145</th>\n",
       "      <td>6.7</td>\n",
       "      <td>3.0</td>\n",
       "      <td>5.2</td>\n",
       "      <td>2.3</td>\n",
       "      <td>2</td>\n",
       "    </tr>\n",
       "    <tr>\n",
       "      <th>146</th>\n",
       "      <td>6.3</td>\n",
       "      <td>2.5</td>\n",
       "      <td>5.0</td>\n",
       "      <td>1.9</td>\n",
       "      <td>2</td>\n",
       "    </tr>\n",
       "    <tr>\n",
       "      <th>147</th>\n",
       "      <td>6.5</td>\n",
       "      <td>3.0</td>\n",
       "      <td>5.2</td>\n",
       "      <td>2.0</td>\n",
       "      <td>2</td>\n",
       "    </tr>\n",
       "    <tr>\n",
       "      <th>148</th>\n",
       "      <td>6.2</td>\n",
       "      <td>3.4</td>\n",
       "      <td>5.4</td>\n",
       "      <td>2.3</td>\n",
       "      <td>2</td>\n",
       "    </tr>\n",
       "    <tr>\n",
       "      <th>149</th>\n",
       "      <td>5.9</td>\n",
       "      <td>3.0</td>\n",
       "      <td>5.1</td>\n",
       "      <td>1.8</td>\n",
       "      <td>2</td>\n",
       "    </tr>\n",
       "  </tbody>\n",
       "</table>\n",
       "<p>150 rows × 5 columns</p>\n",
       "</div>"
      ]
     },
     "execution_count": 7,
     "metadata": {},
     "output_type": "execute_result"
    }
   ],
   "execution_count": 7
  },
  {
   "metadata": {
    "ExecuteTime": {
     "end_time": "2024-05-08T02:24:41.745565Z",
     "start_time": "2024-05-08T02:24:41.522623Z"
    }
   },
   "cell_type": "code",
   "source": [
    "#Using Logistic Regression\n",
    "from sklearn.linear_model import LogisticRegression\n",
    "\n",
    "#Initiate\n",
    "classifier = LogisticRegression()\n",
    "classifier.fit(x_train, y_train)\n",
    "\n",
    "#Predict\n",
    "y_pred = classifier.predict(x_test)\n",
    "\n",
    "print(\"Logistic Regression - Accuracy:\")\n",
    "print(f\"{accuracy_score(y_test, y_pred):.2f}\")\n",
    "\n",
    "print(\"Logistic Regression - Confusion Matrix:\")\n",
    "cm = confusion_matrix(y_test, y_pred)\n",
    "sb.heatmap(cm, annot=True, fmt='.2f', cmap='Blues')\n",
    "plt.title(\"Logistic Regression Confusion Matrix\")\n",
    "plt.show()\n",
    "\n",
    "print(classification_report(y_test, y_pred))"
   ],
   "id": "ab61d524564bbe57",
   "outputs": [
    {
     "name": "stdout",
     "output_type": "stream",
     "text": [
      "Logistic Regression - Accuracy:\n",
      "0.93\n",
      "Logistic Regression - Confusion Matrix:\n"
     ]
    },
    {
     "data": {
      "text/plain": [
       "<Figure size 640x480 with 2 Axes>"
      ],
      "image/png": "[encoded data removed]"
     },
     "metadata": {},
     "output_type": "display_data"
    },
    {
     "name": "stdout",
     "output_type": "stream",
     "text": [
      "              precision    recall  f1-score   support\n",
      "\n",
      "           0       1.00      1.00      1.00        11\n",
      "           1       0.88      0.88      0.88         8\n",
      "           2       0.91      0.91      0.91        11\n",
      "\n",
      "    accuracy                           0.93        30\n",
      "   macro avg       0.93      0.93      0.93        30\n",
      "weighted avg       0.93      0.93      0.93        30\n",
      "\n"
     ]
    }
   ],
   "execution_count": 9
  },
  {
   "metadata": {},
   "cell_type": "markdown",
   "source": "### REGRESSION",
   "id": "606ecdd3618a7d4d"
  },
  {
   "metadata": {
    "ExecuteTime": {
     "end_time": "2024-05-08T02:53:24.473777Z",
     "start_time": "2024-05-08T02:53:24.426002Z"
    }
   },
   "cell_type": "code",
   "source": [
    "# Load dataset\n",
    "\n",
    "house_data = pd.read_csv('data/housing.csv')\n",
    "house_data.head()"
   ],
   "id": "8e76fe83453ba42a",
   "outputs": [
    {
     "data": {
      "text/plain": [
       "   longitude  latitude  housing_median_age  total_rooms  total_bedrooms  \\\n",
       "0    -122.23     37.88                41.0        880.0           129.0   \n",
       "1    -122.22     37.86                21.0       7099.0          1106.0   \n",
       "2    -122.24     37.85                52.0       1467.0           190.0   \n",
       "3    -122.25     37.85                52.0       1274.0           235.0   \n",
       "4    -122.25     37.85                52.0       1627.0           280.0   \n",
       "\n",
       "   population  households  median_income  median_house_value ocean_proximity  \n",
       "0       322.0       126.0         8.3252            452600.0        NEAR BAY  \n",
       "1      2401.0      1138.0         8.3014            358500.0        NEAR BAY  \n",
       "2       496.0       177.0         7.2574            352100.0        NEAR BAY  \n",
       "3       558.0       219.0         5.6431            341300.0        NEAR BAY  \n",
       "4       565.0       259.0         3.8462            342200.0        NEAR BAY  "
      ],
      "text/html": [
       "<div>\n",
       "<style scoped>\n",
       "    .dataframe tbody tr th:only-of-type {\n",
       "        vertical-align: middle;\n",
       "    }\n",
       "\n",
       "    .dataframe tbody tr th {\n",
       "        vertical-align: top;\n",
       "    }\n",
       "\n",
       "    .dataframe thead th {\n",
       "        text-align: right;\n",
       "    }\n",
       "</style>\n",
       "<table border=\"1\" class=\"dataframe\">\n",
       "  <thead>\n",
       "    <tr style=\"text-align: right;\">\n",
       "      <th></th>\n",
       "      <th>longitude</th>\n",
       "      <th>latitude</th>\n",
       "      <th>housing_median_age</th>\n",
       "      <th>total_rooms</th>\n",
       "      <th>total_bedrooms</th>\n",
       "      <th>population</th>\n",
       "      <th>households</th>\n",
       "      <th>median_income</th>\n",
       "      <th>median_house_value</th>\n",
       "      <th>ocean_proximity</th>\n",
       "    </tr>\n",
       "  </thead>\n",
       "  <tbody>\n",
       "    <tr>\n",
       "      <th>0</th>\n",
       "      <td>-122.23</td>\n",
       "      <td>37.88</td>\n",
       "      <td>41.0</td>\n",
       "      <td>880.0</td>\n",
       "      <td>129.0</td>\n",
       "      <td>322.0</td>\n",
       "      <td>126.0</td>\n",
       "      <td>8.3252</td>\n",
       "      <td>452600.0</td>\n",
       "      <td>NEAR BAY</td>\n",
       "    </tr>\n",
       "    <tr>\n",
       "      <th>1</th>\n",
       "      <td>-122.22</td>\n",
       "      <td>37.86</td>\n",
       "      <td>21.0</td>\n",
       "      <td>7099.0</td>\n",
       "      <td>1106.0</td>\n",
       "      <td>2401.0</td>\n",
       "      <td>1138.0</td>\n",
       "      <td>8.3014</td>\n",
       "      <td>358500.0</td>\n",
       "      <td>NEAR BAY</td>\n",
       "    </tr>\n",
       "    <tr>\n",
       "      <th>2</th>\n",
       "      <td>-122.24</td>\n",
       "      <td>37.85</td>\n",
       "      <td>52.0</td>\n",
       "      <td>1467.0</td>\n",
       "      <td>190.0</td>\n",
       "      <td>496.0</td>\n",
       "      <td>177.0</td>\n",
       "      <td>7.2574</td>\n",
       "      <td>352100.0</td>\n",
       "      <td>NEAR BAY</td>\n",
       "    </tr>\n",
       "    <tr>\n",
       "      <th>3</th>\n",
       "      <td>-122.25</td>\n",
       "      <td>37.85</td>\n",
       "      <td>52.0</td>\n",
       "      <td>1274.0</td>\n",
       "      <td>235.0</td>\n",
       "      <td>558.0</td>\n",
       "      <td>219.0</td>\n",
       "      <td>5.6431</td>\n",
       "      <td>341300.0</td>\n",
       "      <td>NEAR BAY</td>\n",
       "    </tr>\n",
       "    <tr>\n",
       "      <th>4</th>\n",
       "      <td>-122.25</td>\n",
       "      <td>37.85</td>\n",
       "      <td>52.0</td>\n",
       "      <td>1627.0</td>\n",
       "      <td>280.0</td>\n",
       "      <td>565.0</td>\n",
       "      <td>259.0</td>\n",
       "      <td>3.8462</td>\n",
       "      <td>342200.0</td>\n",
       "      <td>NEAR BAY</td>\n",
       "    </tr>\n",
       "  </tbody>\n",
       "</table>\n",
       "</div>"
      ]
     },
     "execution_count": 14,
     "metadata": {},
     "output_type": "execute_result"
    }
   ],
   "execution_count": 14
  },
  {
   "metadata": {},
   "cell_type": "markdown",
   "source": "### UNSUPERVISED LEARNING",
   "id": "eadb934b7fa9f5eb"
  },
  {
   "metadata": {},
   "cell_type": "markdown",
   "source": "CLUSTERING",
   "id": "87ed6c6c4c3b8c61"
  },
  {
   "metadata": {
    "ExecuteTime": {
     "end_time": "2024-05-08T07:02:50.250915Z",
     "start_time": "2024-05-08T07:02:50.245229Z"
    }
   },
   "cell_type": "code",
   "source": [
    "from sklearn.cluster import AgglomerativeClustering, KMeans\n",
    "from scipy.cluster.hierarchy import linkage, dendrogram\n"
   ],
   "id": "ad403da81e3a6c2d",
   "outputs": [],
   "execution_count": 22
  },
  {
   "metadata": {
    "ExecuteTime": {
     "end_time": "2024-05-08T07:06:55.347554Z",
     "start_time": "2024-05-08T07:06:53.904163Z"
    }
   },
   "cell_type": "code",
   "source": [
    "# Hierarchical Clustering\n",
    "\n",
    "#Number of clusters\n",
    "n_clusters = 50\n",
    "\n",
    "#Create instance model\n",
    "agglomerative_clustering = AgglomerativeClustering(n_clusters=n_clusters, linkage='ward')\n",
    "\n",
    "#Fit the model\n",
    "cluster_labels = agglomerative_clustering.fit_predict(data)\n",
    "\n",
    "#Generate the linkage matrix for dendogram\n",
    "linkage_matrix = (linkage(data, method='ward'))\n",
    "\n",
    "\n",
    "#Spesial tunning to create 5 clusters in the dendogram\n",
    "#The 'color_tresshold' value is based on the minimum distance between clusters when 'n_clusters' as defined\n",
    "last_merge_distance = linkage_matrix[-(n_clusters-1):,2]\n",
    "color_tresshold = np.min(last_merge_distance)\n",
    "\n",
    "#Plot the dendogram\n",
    "plt.figure()\n",
    "dendrogram(linkage_matrix)\n",
    "plt.title(\"Agglomerative Clustering\")\n",
    "plt.xlabel(\"Number of clusters\")\n",
    "plt.ylabel(\"Distance\")\n",
    "plt.show()"
   ],
   "id": "3f7386b6113e0298",
   "outputs": [
    {
     "data": {
      "text/plain": [
       "<Figure size 640x480 with 1 Axes>"
      ],
      "image/png": "[encoded data removed]"
     },
     "metadata": {},
     "output_type": "display_data"
    }
   ],
   "execution_count": 34
  },
  {
   "metadata": {
    "ExecuteTime": {
     "end_time": "2024-05-08T07:12:28.076197Z",
     "start_time": "2024-05-08T07:12:27.462784Z"
    }
   },
   "cell_type": "code",
   "source": [
    "# K-Means Clustering\n",
    "from sklearn.cluster import KMeans\n",
    "\n",
    "# Number of data points\n",
    "num_samples = 150\n",
    "\n",
    "# Random seed for reproducibility\n",
    "np.random.seed(42)\n",
    "\n",
    "# Generate data for 3 clusters\n",
    "data = np.vstack([\n",
    "    np.random.randn(num_samples // 3, 2) + [2, 2],\n",
    "    np.random.randn(num_samples // 3, 2) + [6, 6],\n",
    "    np.random.randn(num_samples // 3, 2) + [10, 2],\n",
    "])\n",
    "\n",
    "# Initiate amount of data\n",
    "k = 3\n",
    "\n",
    "# Create K-Means instance\n",
    "kmeans = KMeans(n_clusters=k)\n",
    "\n",
    "# Fit K-Means model to the data\n",
    "kmeans.fit(data)\n",
    "\n",
    "# Get cluster labels\n",
    "clusters_labels = kmeans.labels_\n",
    "\n",
    "# Get cluster centers\n",
    "cluster_centers = kmeans.cluster_centers_\n",
    "\n",
    "# Define color for the clusters\n",
    "colors = ['red', 'green', 'blue']\n",
    "\n",
    "# Plot the data points with different color of each cluster    \n",
    "for i in range(k):\n",
    "    plt.scatter(data[cluster_labels == i, 0], data[cluster_labels == i, 1], color=colors[i], label=f'Cluster {i+1}')\n",
    "\n",
    "# Plot the cluster centers\n",
    "plt.scatter(cluster_centers[:, 0], cluster_centers[:, 1], color='black', marker='x', s=100, label='Centers')\n",
    "\n",
    "#Add legend and show the plot\n",
    "plt.xlabel('Feature 1')\n",
    "plt.ylabel('Feature 2')\n",
    "plt.title(\"K-Means Clustering\")\n",
    "plt.legend()\n",
    "plt.show()"
   ],
   "id": "c43855079323fbc4",
   "outputs": [
    {
     "data": {
      "text/plain": [
       "<Figure size 640x480 with 1 Axes>"
      ],
      "image/png": "[encoded data removed]"
     },
     "metadata": {},
     "output_type": "display_data"
    }
   ],
   "execution_count": 43
  },
  {
   "metadata": {},
   "cell_type": "code",
   "outputs": [],
   "execution_count": null,
   "source": [
    "# Exercise\n",
    "\n",
    "import numpy as np\n",
    "import pandas as pd\n",
    "import matplotlib.pyplot as plt\n",
    "from sklearn.cluster import KMeans\n"
   ],
   "id": "3753dce44a254020"
  },
  {
   "metadata": {
    "ExecuteTime": {
     "end_time": "2024-05-08T07:17:15.825117Z",
     "start_time": "2024-05-08T07:17:15.807286Z"
    }
   },
   "cell_type": "code",
   "source": [
    "# Load data from CSV\n",
    "data = pd.read_csv('data/Mall_Customers.csv')\n",
    "\n",
    "# Preview\n",
    "data.head()"
   ],
   "id": "efa0752379f91779",
   "outputs": [
    {
     "data": {
      "text/plain": [
       "   CustomerID   Genre  Age  Annual Income (k$)  Spending Score (1-100)\n",
       "0           1    Male   19                  15                      39\n",
       "1           2    Male   21                  15                      81\n",
       "2           3  Female   20                  16                       6\n",
       "3           4  Female   23                  16                      77\n",
       "4           5  Female   31                  17                      40"
      ],
      "text/html": [
       "<div>\n",
       "<style scoped>\n",
       "    .dataframe tbody tr th:only-of-type {\n",
       "        vertical-align: middle;\n",
       "    }\n",
       "\n",
       "    .dataframe tbody tr th {\n",
       "        vertical-align: top;\n",
       "    }\n",
       "\n",
       "    .dataframe thead th {\n",
       "        text-align: right;\n",
       "    }\n",
       "</style>\n",
       "<table border=\"1\" class=\"dataframe\">\n",
       "  <thead>\n",
       "    <tr style=\"text-align: right;\">\n",
       "      <th></th>\n",
       "      <th>CustomerID</th>\n",
       "      <th>Genre</th>\n",
       "      <th>Age</th>\n",
       "      <th>Annual Income (k$)</th>\n",
       "      <th>Spending Score (1-100)</th>\n",
       "    </tr>\n",
       "  </thead>\n",
       "  <tbody>\n",
       "    <tr>\n",
       "      <th>0</th>\n",
       "      <td>1</td>\n",
       "      <td>Male</td>\n",
       "      <td>19</td>\n",
       "      <td>15</td>\n",
       "      <td>39</td>\n",
       "    </tr>\n",
       "    <tr>\n",
       "      <th>1</th>\n",
       "      <td>2</td>\n",
       "      <td>Male</td>\n",
       "      <td>21</td>\n",
       "      <td>15</td>\n",
       "      <td>81</td>\n",
       "    </tr>\n",
       "    <tr>\n",
       "      <th>2</th>\n",
       "      <td>3</td>\n",
       "      <td>Female</td>\n",
       "      <td>20</td>\n",
       "      <td>16</td>\n",
       "      <td>6</td>\n",
       "    </tr>\n",
       "    <tr>\n",
       "      <th>3</th>\n",
       "      <td>4</td>\n",
       "      <td>Female</td>\n",
       "      <td>23</td>\n",
       "      <td>16</td>\n",
       "      <td>77</td>\n",
       "    </tr>\n",
       "    <tr>\n",
       "      <th>4</th>\n",
       "      <td>5</td>\n",
       "      <td>Female</td>\n",
       "      <td>31</td>\n",
       "      <td>17</td>\n",
       "      <td>40</td>\n",
       "    </tr>\n",
       "  </tbody>\n",
       "</table>\n",
       "</div>"
      ]
     },
     "execution_count": 44,
     "metadata": {},
     "output_type": "execute_result"
    }
   ],
   "execution_count": 44
  },
  {
   "metadata": {},
   "cell_type": "code",
   "outputs": [],
   "execution_count": null,
   "source": "# Need to make a plot for the optimal cluster that possible to reach out",
   "id": "7087450c915d3c87"
  },
  {
   "metadata": {
    "ExecuteTime": {
     "end_time": "2024-05-08T07:18:58.855629Z",
     "start_time": "2024-05-08T07:18:58.839502Z"
    }
   },
   "cell_type": "code",
   "source": [
    "# Select two features for clustering\n",
    "features = data[['Annual Income (k$)', 'Spending Score (1-100)']]\n",
    "features"
   ],
   "id": "16b888612b07dd48",
   "outputs": [
    {
     "data": {
      "text/plain": [
       "     Annual Income (k$)  Spending Score (1-100)\n",
       "0                    15                      39\n",
       "1                    15                      81\n",
       "2                    16                       6\n",
       "3                    16                      77\n",
       "4                    17                      40\n",
       "..                  ...                     ...\n",
       "195                 120                      79\n",
       "196                 126                      28\n",
       "197                 126                      74\n",
       "198                 137                      18\n",
       "199                 137                      83\n",
       "\n",
       "[200 rows x 2 columns]"
      ],
      "text/html": [
       "<div>\n",
       "<style scoped>\n",
       "    .dataframe tbody tr th:only-of-type {\n",
       "        vertical-align: middle;\n",
       "    }\n",
       "\n",
       "    .dataframe tbody tr th {\n",
       "        vertical-align: top;\n",
       "    }\n",
       "\n",
       "    .dataframe thead th {\n",
       "        text-align: right;\n",
       "    }\n",
       "</style>\n",
       "<table border=\"1\" class=\"dataframe\">\n",
       "  <thead>\n",
       "    <tr style=\"text-align: right;\">\n",
       "      <th></th>\n",
       "      <th>Annual Income (k$)</th>\n",
       "      <th>Spending Score (1-100)</th>\n",
       "    </tr>\n",
       "  </thead>\n",
       "  <tbody>\n",
       "    <tr>\n",
       "      <th>0</th>\n",
       "      <td>15</td>\n",
       "      <td>39</td>\n",
       "    </tr>\n",
       "    <tr>\n",
       "      <th>1</th>\n",
       "      <td>15</td>\n",
       "      <td>81</td>\n",
       "    </tr>\n",
       "    <tr>\n",
       "      <th>2</th>\n",
       "      <td>16</td>\n",
       "      <td>6</td>\n",
       "    </tr>\n",
       "    <tr>\n",
       "      <th>3</th>\n",
       "      <td>16</td>\n",
       "      <td>77</td>\n",
       "    </tr>\n",
       "    <tr>\n",
       "      <th>4</th>\n",
       "      <td>17</td>\n",
       "      <td>40</td>\n",
       "    </tr>\n",
       "    <tr>\n",
       "      <th>...</th>\n",
       "      <td>...</td>\n",
       "      <td>...</td>\n",
       "    </tr>\n",
       "    <tr>\n",
       "      <th>195</th>\n",
       "      <td>120</td>\n",
       "      <td>79</td>\n",
       "    </tr>\n",
       "    <tr>\n",
       "      <th>196</th>\n",
       "      <td>126</td>\n",
       "      <td>28</td>\n",
       "    </tr>\n",
       "    <tr>\n",
       "      <th>197</th>\n",
       "      <td>126</td>\n",
       "      <td>74</td>\n",
       "    </tr>\n",
       "    <tr>\n",
       "      <th>198</th>\n",
       "      <td>137</td>\n",
       "      <td>18</td>\n",
       "    </tr>\n",
       "    <tr>\n",
       "      <th>199</th>\n",
       "      <td>137</td>\n",
       "      <td>83</td>\n",
       "    </tr>\n",
       "  </tbody>\n",
       "</table>\n",
       "<p>200 rows × 2 columns</p>\n",
       "</div>"
      ]
     },
     "execution_count": 45,
     "metadata": {},
     "output_type": "execute_result"
    }
   ],
   "execution_count": 45
  },
  {
   "metadata": {
    "ExecuteTime": {
     "end_time": "2024-05-08T07:30:06.276898Z",
     "start_time": "2024-05-08T07:30:06.263320Z"
    }
   },
   "cell_type": "code",
   "source": "data['Age'] > 40",
   "id": "d262325dcf8c235",
   "outputs": [
    {
     "data": {
      "text/plain": [
       "0      False\n",
       "1      False\n",
       "2      False\n",
       "3      False\n",
       "4      False\n",
       "       ...  \n",
       "195    False\n",
       "196     True\n",
       "197    False\n",
       "198    False\n",
       "199    False\n",
       "Name: Age, Length: 200, dtype: bool"
      ]
     },
     "execution_count": 48,
     "metadata": {},
     "output_type": "execute_result"
    }
   ],
   "execution_count": 48
  },
  {
   "metadata": {
    "ExecuteTime": {
     "end_time": "2024-05-08T07:37:45.186880Z",
     "start_time": "2024-05-08T07:37:43.259920Z"
    }
   },
   "cell_type": "code",
   "source": [
    "wcss = []\n",
    "\n",
    "# Try different numbers of clusters from 1 to 10\n",
    "for i in range(1, 11):\n",
    "    kmeans = KMeans(n_clusters=i, random_state=42)\n",
    "    kmeans.fit(features)\n",
    "    wcss.append(kmeans.inertia_)\n",
    "\n",
    "# Plot WCSS to find the \"elbow\" point\n",
    "plt.plot(range(1, 11), wcss, marker='o')\n",
    "plt.xlabel('Number of Clusters')\n",
    "plt.ylabel('WCSS')\n",
    "plt.title('Elbow Method to Determine Optimal Clusters')\n",
    "plt.show()"
   ],
   "id": "7f0e04aa42d1cc15",
   "outputs": [
    {
     "data": {
      "text/plain": [
       "<Figure size 640x480 with 1 Axes>"
      ],
      "image/png": "[encoded data removed]"
     },
     "metadata": {},
     "output_type": "display_data"
    }
   ],
   "execution_count": 49
  },
  {
   "metadata": {
    "ExecuteTime": {
     "end_time": "2024-05-08T07:42:02.306844Z",
     "start_time": "2024-05-08T07:42:02.180646Z"
    }
   },
   "cell_type": "code",
   "source": [
    "# Optimal number of clusters\n",
    "n_clusters = 5\n",
    "\n",
    "# Create and fit the KMeans model\n",
    "kmeans = KMeans(n_clusters=n_clusters, random_state=42)\n",
    "cluster_labels = kmeans.fit_predict(features)"
   ],
   "id": "9a4899a35f928705",
   "outputs": [],
   "execution_count": 50
  },
  {
   "metadata": {
    "ExecuteTime": {
     "end_time": "2024-05-08T07:42:12.373787Z",
     "start_time": "2024-05-08T07:42:12.053483Z"
    }
   },
   "cell_type": "code",
   "source": [
    "# Define colors for the clusters\n",
    "colors = ['red', 'blue', 'green', 'purple', 'orange']\n",
    "\n",
    "# Scatter plot with colors for each cluster\n",
    "for i in range(n_clusters):\n",
    "    plt.scatter(features[cluster_labels == i]['Annual Income (k$)'],\n",
    "                features[cluster_labels == i]['Spending Score (1-100)'],\n",
    "                color=colors[i], label=f'Cluster {i+1}')\n",
    "\n",
    "# Cluster centers\n",
    "cluster_centers = kmeans.cluster_centers_\n",
    "plt.scatter(cluster_centers[:, 0], cluster_centers[:, 1], color='black', marker='x', s=100, label='Centers')\n",
    "\n",
    "# Add plot details\n",
    "plt.xlabel('Annual Income (k$)')\n",
    "plt.ylabel('Spending Score (1-100)')\n",
    "plt.title('Customer Segmentation with K-Means Clustering')\n",
    "plt.legend()\n",
    "plt.show()"
   ],
   "id": "41b4d97b455449d0",
   "outputs": [
    {
     "data": {
      "text/plain": [
       "<Figure size 640x480 with 1 Axes>"
      ],
      "image/png": "[encoded data removed]"
     },
     "metadata": {},
     "output_type": "display_data"
    }
   ],
   "execution_count": 51
  },
  {
   "metadata": {},
   "cell_type": "code",
   "outputs": [],
   "execution_count": null,
   "source": "",
   "id": "906462cc38872764"
  }
 ],
 "metadata": {
  "kernelspec": {
   "display_name": "Python 3",
   "language": "python",
   "name": "python3"
  },
  "language_info": {
   "codemirror_mode": {
    "name": "ipython",
    "version": 2
   },
   "file_extension": ".py",
   "mimetype": "text/x-python",
   "name": "python",
   "nbconvert_exporter": "python",
   "pygments_lexer": "ipython2",
   "version": "2.7.6"
  }
 },
 "nbformat": 4,
 "nbformat_minor": 5
}
